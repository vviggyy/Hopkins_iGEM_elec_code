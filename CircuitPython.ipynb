{
 "cells": [
  {
   "cell_type": "markdown",
   "metadata": {},
   "source": [
    "https://learn.adafruit.com/circuitpython-basics-i2c-and-spi/i2c-devices\n",
    "\n",
    "https://learn.adafruit.com/circuitpython-digital-inputs-and-outputs/digital-outputs\n",
    "\n",
    "https://learn.adafruit.com/thermistor/circuitpython"
   ]
  },
  {
   "cell_type": "code",
   "execution_count": 17,
   "metadata": {},
   "outputs": [
    {
     "name": "stderr",
     "output_type": "stream",
     "text": [
      "No connection to CiruitPython VM: found no board"
     ]
    }
   ],
   "source": [
    "import board\n",
    "import busio\n",
    "import time\n",
    "import numpy as np\n",
    "import adafruit_character_lcd.character_lcd_spi as character_lcd"
   ]
  },
  {
   "cell_type": "code",
   "execution_count": null,
   "metadata": {},
   "outputs": [],
   "source": [
    "spi = busio.SPI(board.SCK, MOSI=board.MOSI)\n",
    "latch = digitalio.DigitalInOut(board.D5)\n",
    "cols = 16\n",
    "rows = 2\n",
    "lcd = character_lcd.Character_LCD_SPI(spi, latch, cols, rows)"
   ]
  },
  {
   "cell_type": "code",
   "execution_count": null,
   "metadata": {},
   "outputs": [],
   "source": []
  },
  {
   "cell_type": "code",
   "execution_count": 4,
   "metadata": {},
   "outputs": [
    {
     "name": "stderr",
     "output_type": "stream",
     "text": [
      "No connection to CiruitPython VM: found no board"
     ]
    }
   ],
   "source": [
    "def bitstring_to_bytes(s):\n",
    "    return int(s, 2).to_bytes((len(s) + 7) // 8, byteorder='big')"
   ]
  },
  {
   "cell_type": "code",
   "execution_count": 3,
   "metadata": {},
   "outputs": [
    {
     "name": "stderr",
     "output_type": "stream",
     "text": [
      "No connection to CiruitPython VM: found no board"
     ]
    }
   ],
   "source": [
    "i2c = busio.I2C(board.SCL, board.SDA)\n",
    "i2c_2 = busio.I2C(board.D9, board.D6)"
   ]
  },
  {
   "cell_type": "code",
   "execution_count": 4,
   "metadata": {},
   "outputs": [
    {
     "name": "stderr",
     "output_type": "stream",
     "text": [
      "No connection to CiruitPython VM: found no board"
     ]
    }
   ],
   "source": [
    "while not i2c.try_lock():\n",
    "    pass"
   ]
  },
  {
   "cell_type": "code",
   "execution_count": 1,
   "metadata": {},
   "outputs": [
    {
     "name": "stderr",
     "output_type": "stream",
     "text": [
      "No connection to CiruitPython VM: found no board"
     ]
    }
   ],
   "source": [
    "a = [hex(x) for x in i2c.scan()]"
   ]
  },
  {
   "cell_type": "code",
   "execution_count": 1,
   "metadata": {},
   "outputs": [
    {
     "name": "stderr",
     "output_type": "stream",
     "text": [
      "No connection to CiruitPython VM: found no board"
     ]
    }
   ],
   "source": [
    "enable = 1\n",
    "frequency = 3\n",
    "wavetype = 1\n",
    "\n",
    "\n",
    "frequency_opt = [\"00\", \"01\", \"10\", \"11\"]\n",
    "mc1_address = \"\"\n",
    "mc2_address = \"\"\n",
    "mc_cmd = [bitstring_to_bytes(str(enable) + frequency_opt[frequency] + str(wavetype))]"
   ]
  },
  {
   "cell_type": "code",
   "execution_count": 3,
   "metadata": {},
   "outputs": [
    {
     "name": "stderr",
     "output_type": "stream",
     "text": [
      "No connection to CiruitPython VM: found no board"
     ]
    }
   ],
   "source": [
    "i2c.writeto(mc1_address, bytes([0x3F00, mc_cmd]), stop=False)\n",
    "i2c_2.writeto(mc2_address, bytes([0x3F00, mc_cmd]), stop=False)"
   ]
  },
  {
   "cell_type": "code",
   "execution_count": 14,
   "metadata": {},
   "outputs": [
    {
     "name": "stderr",
     "output_type": "stream",
     "text": [
      "No connection to CiruitPython VM: found no board"
     ]
    }
   ],
   "source": [
    "rheostat_adress = hex(101100)\n",
    "wiper0_address = 0x00\n",
    "wiper1_address = 0x01\n",
    "increment = 0x01\n",
    "decrement = 0x02"
   ]
  },
  {
   "cell_type": "code",
   "execution_count": 7,
   "metadata": {},
   "outputs": [
    {
     "name": "stderr",
     "output_type": "stream",
     "text": [
      "No connection to CiruitPython VM: found no board"
     ]
    }
   ],
   "source": [
    "coil1_address = 0x00\n",
    "coil2_address = 0x00"
   ]
  },
  {
   "cell_type": "code",
   "execution_count": 21,
   "metadata": {},
   "outputs": [
    {
     "name": "stderr",
     "output_type": "stream",
     "text": [
      "No connection to CiruitPython VM: found no board"
     ]
    }
   ],
   "source": [
    "def current1(coil, write_cmd=\"\", read_cmd=\"\"):\n",
    "    i2c.writeto(coil, bytes(write_cmd), stop=False)\n",
    "    data = bytearray(read_cmd)\n",
    "    i2c.readfrom_into(coil, data)\n",
    "    value = data[0] << 8 | data[1]\n",
    "    I = (value & 0xFFF) / 16.0\n",
    "    if value & 0x1000:\n",
    "        I -= 256.0\n",
    "    return I\n",
    "\n",
    "def current2(coil, write_cmd=\"\", read_cmd=\"\"):\n",
    "    i2c_2.writeto(coil, bytes(write_cmd), stop=False)\n",
    "    data = bytearray(read_cmd)\n",
    "    i2c_2.readfrom_into(coil, data)\n",
    "    value = data[0] << 8 | data[1]\n",
    "    I = (value & 0xFFF) / 16.0\n",
    "    if value & 0x1000:\n",
    "        I -= 256.0\n",
    "    return I"
   ]
  },
  {
   "cell_type": "code",
   "execution_count": 6,
   "metadata": {},
   "outputs": [
    {
     "name": "stderr",
     "output_type": "stream",
     "text": [
      "No connection to CiruitPython VM: found no board"
     ]
    }
   ],
   "source": [
    "\"\"\"\n",
    "while abs(current(coil1_address)) <= 0.1:\n",
    "    i2c.writeto(mosfet1_address, bytes(mosfet_ON_cmd), stop=False)\n",
    "    time.sleep(0.5)\n",
    "    \n",
    "while abs(current(coil2_address)) <= 0.1:\n",
    "    i2c.writeto(mosfet2_address, bytes(mosfet_ON_cmd), stop=False)\n",
    "    time.sleep(0.5)\n",
    "\"\"\""
   ]
  },
  {
   "cell_type": "code",
   "execution_count": 4,
   "metadata": {
    "scrolled": true
   },
   "outputs": [
    {
     "name": "stderr",
     "output_type": "stream",
     "text": [
      "No connection to CiruitPython VM: found no board"
     ]
    }
   ],
   "source": [
    "adjust_current_c1 = True\n",
    "while adjust_current_c1:\n",
    "    \n",
    "    currents_c1 = []\n",
    "    t = 0\n",
    "    while t < 100:\n",
    "        currents_c1.append(current1(coil1_address))\n",
    "        time.sleep(0.001)\n",
    "        t += 1\n",
    "    \n",
    "    if np.average(currents_c1) > 15:\n",
    "        enable = 0\n",
    "        frequency = 0\n",
    "        mc_cmd = [bitstring_to_bytes(str(enable) + frequency_opt[frequency] + str(wavetype))]\n",
    "        i2c.writeto(mc_address, bytes([0x3F00, mc_cmd]), stop=False)\n",
    "        a = 0\n",
    "        while a < 100:\n",
    "            i2c.writeto(rheostat_adress, bytes([wiper0_address, increment]), stop=False)\n",
    "            i2c.writeto(rheostat_adress, bytes([wiper1_address, increment]), stop=False)\n",
    "            a+=1\n",
    "        \n",
    "    elif np.average(currents_c1) < 9.5:\n",
    "        i2c.writeto(rheostat_adress, bytes([wiper0_address, decrement]), stop=False)\n",
    "        i2c.writeto(rheostat_adress, bytes([wiper1_address, decrement]), stop=False)\n",
    "    elif np.average(currents_c1) > 11:\n",
    "        i2c.writeto(rheostat_adress, bytes([wiper0_address, increment]), stop=False)\n",
    "        i2c.writeto(rheostat_adress, bytes([wiper1_address, increment]), stop=False)\n",
    "    else:\n",
    "        adjust_current_c1 = False\n",
    "    \n",
    "adjust_current_c2 = True\n",
    "while adjust_current_c2:\n",
    "    \n",
    "    currents_c2 = []\n",
    "    t = 0\n",
    "    while t < 10:\n",
    "        currents_c2.append(current2(coil2_address))\n",
    "        time.sleep(0.01)\n",
    "        t += 1\n",
    "    \n",
    "    if np.average(currents_c2) > 2:\n",
    "        enable = 0\n",
    "        frequency = 0\n",
    "        mc_cmd = [bitstring_to_bytes(str(enable) + frequency_opt[frequency] + str(wavetype))]\n",
    "        i2c_2.writeto(mc_address, bytes([0x3F00, mc_cmd]), stop=False)\n",
    "        a = 0\n",
    "        while a < 100:\n",
    "            i2c_2.writeto(rheostat_adress, bytes([wiper0_address, increment]), stop=False)\n",
    "            i2c_2.writeto(rheostat_adress, bytes([wiper1_address, increment]), stop=False)\n",
    "            a+=1\n",
    "        \n",
    "    elif np.average(currents_c2) < 0.8:\n",
    "        i2c_2.writeto(rheostat_adress, bytes([wiper0_address, decrement]), stop=False)\n",
    "        i2c_2.writeto(rheostat_adress, bytes([wiper1_address, decrement]), stop=False)\n",
    "    elif np.average(currents_c2) > 1.2:\n",
    "        i2c_2.writeto(rheostat_adress, bytes([wiper0_address, decrement]), stop=False)\n",
    "        i2c_2.writeto(rheostat_adress, bytes([wiper1_address, increment]), stop=False)\n",
    "    else:\n",
    "        adjust_current_c2 = False"
   ]
  },
  {
   "cell_type": "code",
   "execution_count": 5,
   "metadata": {},
   "outputs": [
    {
     "name": "stderr",
     "output_type": "stream",
     "text": [
      "No connection to CiruitPython VM: found no board"
     ]
    }
   ],
   "source": [
    "i2c.unlock()"
   ]
  },
  {
   "cell_type": "code",
   "execution_count": null,
   "metadata": {},
   "outputs": [],
   "source": []
  }
 ],
 "metadata": {
  "kernelspec": {
   "display_name": "CircuitPython",
   "language": "python",
   "name": "circuitpython"
  },
  "language_info": {
   "codemirror_mode": {
    "name": "python",
    "version": 3
   },
   "file_extension": ".py",
   "mimetype": "text/x-python",
   "name": "python",
   "pygments_lexer": "python3",
   "version": "3"
  }
 },
 "nbformat": 4,
 "nbformat_minor": 4
}
